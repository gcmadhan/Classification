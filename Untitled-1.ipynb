{
 "cells": [
  {
   "cell_type": "code",
   "execution_count": 1,
   "metadata": {},
   "outputs": [
    {
     "name": "stderr",
     "output_type": "stream",
     "text": [
      "C:\\Users\\F14EIYF\\AppData\\Roaming\\Python\\Python311\\site-packages\\tqdm\\auto.py:21: TqdmWarning: IProgress not found. Please update jupyter and ipywidgets. See https://ipywidgets.readthedocs.io/en/stable/user_install.html\n",
      "  from .autonotebook import tqdm as notebook_tqdm\n"
     ]
    },
    {
     "name": "stdout",
     "output_type": "stream",
     "text": [
      "[2023-08-09 15:26:41,136: INFO: __init__: Pandas backend loaded 2.0.1]\n",
      "[2023-08-09 15:26:41,194: INFO: __init__: Numpy backend loaded 1.23.5]\n",
      "[2023-08-09 15:26:41,196: INFO: __init__: Pyspark backend NOT loaded]\n",
      "[2023-08-09 15:26:41,197: INFO: __init__: Python backend loaded]\n",
      "[2023-08-09 15:26:41,750: INFO: configuration: Reading Params file params.yaml]\n",
      "[2023-08-09 15:26:41,753: INFO: common: yaml file: params.yaml loaded successfully]\n",
      "[2023-08-09 15:26:41,837: INFO: data_ingestion: Reading Dataset: Successful]\n",
      "[2023-08-09 15:26:41,841: INFO: configuration: Reading Params file params.yaml]\n",
      "[2023-08-09 15:26:41,843: INFO: common: yaml file: params.yaml loaded successfully]\n",
      "Churn\n",
      "[2023-08-09 15:26:41,844: INFO: configuration: Reading Params file params.yaml]\n",
      "[2023-08-09 15:26:41,845: INFO: common: yaml file: params.yaml loaded successfully]\n",
      "Numeric transformer StandardScaler()\n",
      "\n",
      "Numeric transformer OneHotEncoder(drop='first', handle_unknown='ignore', sparse=False)\n",
      "\n",
      "Numeric features are: Index(['Age', 'Tenure', 'Usage Frequency', 'Support Calls', 'Payment Delay',\n",
      "       'Total Spend', 'Last Interaction'],\n",
      "      dtype='object')\n",
      "Categorical features are: Index(['Gender', 'Subscription Type', 'Contract Length'], dtype='object')\n",
      "ColumnTransformer(remainder='passthrough',\n",
      "                  transformers=[('num',\n",
      "                                 Pipeline(steps=[('scalar', StandardScaler())]),\n",
      "                                 Index(['Age', 'Tenure', 'Usage Frequency', 'Support Calls', 'Payment Delay',\n",
      "       'Total Spend', 'Last Interaction'],\n",
      "      dtype='object')),\n",
      "                                ('cat',\n",
      "                                 Pipeline(steps=[('OneHotencoding',\n",
      "                                                  OneHotEncoder(drop='first',\n",
      "                                                                handle_unknown='ignore',\n",
      "                                                                sparse=False))]),\n",
      "                                 Index(['Gender', 'Subscription Type', 'Contract Length'], dtype='object'))])\n",
      "predicted values \n",
      "\n",
      "Metrics \n",
      "\n",
      "[[8427 1597]\n",
      " [1707 7582]]\n",
      "\n",
      "\n",
      "\n",
      "\n",
      "              precision    recall  f1-score   support\n",
      "\n",
      "           0       0.83      0.84      0.84     10024\n",
      "           1       0.83      0.82      0.82      9289\n",
      "\n",
      "    accuracy                           0.83     19313\n",
      "   macro avg       0.83      0.83      0.83     19313\n",
      "weighted avg       0.83      0.83      0.83     19313\n",
      "\n",
      "\n",
      "\n",
      "\n",
      "\n",
      "0.8289235230155854\n"
     ]
    },
    {
     "name": "stderr",
     "output_type": "stream",
     "text": [
      "C:\\Users\\F14EIYF\\AppData\\Roaming\\Python\\Python311\\site-packages\\sklearn\\preprocessing\\_encoders.py:868: FutureWarning: `sparse` was renamed to `sparse_output` in version 1.2 and will be removed in 1.4. `sparse_output` is ignored unless you leave `sparse` to its default value.\n",
      "  warnings.warn(\n",
      "C:\\Users\\F14EIYF\\AppData\\Roaming\\Python\\Python311\\site-packages\\sklearn\\preprocessing\\_encoders.py:868: FutureWarning: `sparse` was renamed to `sparse_output` in version 1.2 and will be removed in 1.4. `sparse_output` is ignored unless you leave `sparse` to its default value.\n",
      "  warnings.warn(\n"
     ]
    }
   ],
   "source": [
    "from Classification.components import data_ingestion, data_modeling\n",
    "from Classification.pipeline import DataIngestionPipeline, DataValidationPipeline\n",
    "from Classification.config.configuration import ConfigurationManager\n",
    "\n",
    "df = DataIngestionPipeline().main()\n",
    "df=df.drop(columns=['CustomerID'], axis=1)\n",
    "#df.drop(columns=['Unnamed: 0'], inplace=True, axis=1)\n",
    "#DataValidationPipeline(df).main()\n",
    "print(ConfigurationManager().get_data_ingestion_config().target_feature)\n",
    "data_modeling.Data_Preprocessing(df).preprocessing_modeling()\n"
   ]
  },
  {
   "cell_type": "code",
   "execution_count": null,
   "metadata": {},
   "outputs": [],
   "source": []
  },
  {
   "cell_type": "code",
   "execution_count": 2,
   "metadata": {},
   "outputs": [
    {
     "data": {
      "text/plain": [
       "(64374, 11)"
      ]
     },
     "execution_count": 2,
     "metadata": {},
     "output_type": "execute_result"
    }
   ],
   "source": [
    "df.shape"
   ]
  },
  {
   "cell_type": "code",
   "execution_count": 3,
   "metadata": {},
   "outputs": [
    {
     "ename": "TypeError",
     "evalue": "LogisticRegression.fit() missing 3 required positional arguments: 'self', 'X', and 'y'",
     "output_type": "error",
     "traceback": [
      "\u001b[1;31m---------------------------------------------------------------------------\u001b[0m",
      "\u001b[1;31mTypeError\u001b[0m                                 Traceback (most recent call last)",
      "Cell \u001b[1;32mIn[3], line 4\u001b[0m\n\u001b[0;32m      2\u001b[0m a \u001b[39m=\u001b[39m \u001b[39m'\u001b[39m\u001b[39mLogisticRegression\u001b[39m\u001b[39m'\u001b[39m\n\u001b[0;32m      3\u001b[0m modle \u001b[39m=\u001b[39m \u001b[39mglobals\u001b[39m()\u001b[39m.\u001b[39mget(a)\n\u001b[1;32m----> 4\u001b[0m modle\u001b[39m.\u001b[39;49mfit()\n",
      "\u001b[1;31mTypeError\u001b[0m: LogisticRegression.fit() missing 3 required positional arguments: 'self', 'X', and 'y'"
     ]
    }
   ],
   "source": [
    "\n",
    "from sklearn.linear_model import LogisticRegression\n",
    "a = 'LogisticRegression'\n",
    "modle = globals().get(a)\n",
    "modle.fit()"
   ]
  }
 ],
 "metadata": {
  "kernelspec": {
   "display_name": "Python 3",
   "language": "python",
   "name": "python3"
  },
  "language_info": {
   "codemirror_mode": {
    "name": "ipython",
    "version": 3
   },
   "file_extension": ".py",
   "mimetype": "text/x-python",
   "name": "python",
   "nbconvert_exporter": "python",
   "pygments_lexer": "ipython3",
   "version": "3.11.3"
  },
  "orig_nbformat": 4
 },
 "nbformat": 4,
 "nbformat_minor": 2
}
