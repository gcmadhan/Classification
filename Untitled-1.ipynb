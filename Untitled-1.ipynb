{
 "cells": [
  {
   "cell_type": "code",
   "execution_count": 1,
   "metadata": {},
   "outputs": [
    {
     "name": "stderr",
     "output_type": "stream",
     "text": [
      "C:\\Users\\F14EIYF\\AppData\\Roaming\\Python\\Python311\\site-packages\\tqdm\\auto.py:21: TqdmWarning: IProgress not found. Please update jupyter and ipywidgets. See https://ipywidgets.readthedocs.io/en/stable/user_install.html\n",
      "  from .autonotebook import tqdm as notebook_tqdm\n"
     ]
    },
    {
     "name": "stdout",
     "output_type": "stream",
     "text": [
      "[2023-08-14 15:33:57,927: INFO: __init__: Pandas backend loaded 2.0.1]\n",
      "[2023-08-14 15:33:57,936: INFO: __init__: Numpy backend loaded 1.23.5]\n",
      "[2023-08-14 15:33:57,938: INFO: __init__: Pyspark backend NOT loaded]\n",
      "[2023-08-14 15:33:57,938: INFO: __init__: Python backend loaded]\n",
      "[2023-08-14 15:33:58,628: INFO: configuration: Reading Params file params.yaml]\n",
      "[2023-08-14 15:33:58,631: INFO: common: yaml file: params.yaml loaded successfully]\n",
      "[2023-08-14 15:33:58,698: INFO: data_ingestion: Reading Dataset: Successful]\n",
      "[2023-08-14 15:33:58,701: INFO: configuration: Reading Params file params.yaml]\n",
      "[2023-08-14 15:33:58,703: INFO: common: yaml file: params.yaml loaded successfully]\n",
      "[2023-08-14 15:33:58,760: INFO: data_prediction: Index(['Numeric features:Age', 'Numeric features:Tenure',\n",
      "       'Numeric features:UsageFrequency', 'Numeric features:SupportCalls',\n",
      "       'Numeric features:PaymentDelay', 'Numeric features:TotalSpend',\n",
      "       'Numeric features:LastInteraction'],\n",
      "      dtype='object')]\n",
      "[2023-08-14 15:33:58,761: INFO: data_prediction: Index(['Cat features:Gender', 'Cat features:SubscriptionType',\n",
      "       'Cat features:ContractLength'],\n",
      "      dtype='object')]\n",
      "[2023-08-14 15:33:58,805: INFO: data_prediction: feature: Gender]\n",
      "[2023-08-14 15:33:58,824: INFO: data_prediction: feature: SubscriptionType]\n",
      "[2023-08-14 15:33:58,842: INFO: data_prediction: feature: ContractLength]\n"
     ]
    }
   ],
   "source": [
    "from Classification.components.data_prediction import Data_Prediciton\n",
    "from Classification.pipeline import DataIngestionPipeline\n",
    "import pandas as pd\n",
    "df = DataIngestionPipeline().main()\n",
    "df1 = pd.DataFrame([df.iloc[0]], columns=df.columns)\n",
    "df1['Age']=10\n",
    "df1.drop(columns=['CustomerID'], inplace=True)\n",
    "an = Data_Prediciton(df1).validate_input(df1)\n",
    "\n",
    "\n"
   ]
  },
  {
   "cell_type": "code",
   "execution_count": 3,
   "metadata": {},
   "outputs": [
    {
     "data": {
      "text/html": [
       "<div>\n",
       "<style scoped>\n",
       "    .dataframe tbody tr th:only-of-type {\n",
       "        vertical-align: middle;\n",
       "    }\n",
       "\n",
       "    .dataframe tbody tr th {\n",
       "        vertical-align: top;\n",
       "    }\n",
       "\n",
       "    .dataframe thead th {\n",
       "        text-align: right;\n",
       "    }\n",
       "</style>\n",
       "<table border=\"1\" class=\"dataframe\">\n",
       "  <thead>\n",
       "    <tr style=\"text-align: right;\">\n",
       "      <th></th>\n",
       "      <th>Age</th>\n",
       "      <th>Gender</th>\n",
       "      <th>Tenure</th>\n",
       "      <th>UsageFrequency</th>\n",
       "      <th>SupportCalls</th>\n",
       "      <th>PaymentDelay</th>\n",
       "      <th>SubscriptionType</th>\n",
       "      <th>ContractLength</th>\n",
       "      <th>TotalSpend</th>\n",
       "      <th>LastInteraction</th>\n",
       "      <th>Churn</th>\n",
       "    </tr>\n",
       "  </thead>\n",
       "  <tbody>\n",
       "    <tr>\n",
       "      <th>0</th>\n",
       "      <td>10</td>\n",
       "      <td>Female</td>\n",
       "      <td>25</td>\n",
       "      <td>14</td>\n",
       "      <td>4</td>\n",
       "      <td>27</td>\n",
       "      <td>Basic</td>\n",
       "      <td>Monthly</td>\n",
       "      <td>598</td>\n",
       "      <td>9</td>\n",
       "      <td>1</td>\n",
       "    </tr>\n",
       "  </tbody>\n",
       "</table>\n",
       "</div>"
      ],
      "text/plain": [
       "   Age  Gender  Tenure  UsageFrequency  SupportCalls  PaymentDelay   \n",
       "0   10  Female      25              14             4            27  \\\n",
       "\n",
       "  SubscriptionType ContractLength  TotalSpend  LastInteraction  Churn  \n",
       "0            Basic        Monthly         598                9      1  "
      ]
     },
     "execution_count": 3,
     "metadata": {},
     "output_type": "execute_result"
    }
   ],
   "source": [
    "df1"
   ]
  },
  {
   "cell_type": "code",
   "execution_count": 5,
   "metadata": {},
   "outputs": [
    {
     "data": {
      "text/plain": [
       "array(['Female', 'Male'], dtype=object)"
      ]
     },
     "execution_count": 5,
     "metadata": {},
     "output_type": "execute_result"
    }
   ],
   "source": [
    "df['Gender'].unique()"
   ]
  },
  {
   "cell_type": "code",
   "execution_count": 2,
   "metadata": {},
   "outputs": [
    {
     "data": {
      "text/plain": [
       "['Age', 'Gender', 'SubscriptionType', 'ContractLength']"
      ]
     },
     "execution_count": 2,
     "metadata": {},
     "output_type": "execute_result"
    }
   ],
   "source": [
    "an"
   ]
  },
  {
   "cell_type": "code",
   "execution_count": 16,
   "metadata": {},
   "outputs": [
    {
     "data": {
      "text/plain": [
       "True"
      ]
     },
     "execution_count": 16,
     "metadata": {},
     "output_type": "execute_result"
    }
   ],
   "source": [
    "j='Gender'\n",
    "df['Gender'].str.contains(df1['Gender'][0]).any()\n",
    "#.str.contains(df1['Gender'])"
   ]
  },
  {
   "cell_type": "code",
   "execution_count": 8,
   "metadata": {},
   "outputs": [
    {
     "data": {
      "text/html": [
       "<div>\n",
       "<style scoped>\n",
       "    .dataframe tbody tr th:only-of-type {\n",
       "        vertical-align: middle;\n",
       "    }\n",
       "\n",
       "    .dataframe tbody tr th {\n",
       "        vertical-align: top;\n",
       "    }\n",
       "\n",
       "    .dataframe thead th {\n",
       "        text-align: right;\n",
       "    }\n",
       "</style>\n",
       "<table border=\"1\" class=\"dataframe\">\n",
       "  <thead>\n",
       "    <tr style=\"text-align: right;\">\n",
       "      <th></th>\n",
       "      <th>Age</th>\n",
       "      <th>Gender</th>\n",
       "      <th>Tenure</th>\n",
       "      <th>UsageFrequency</th>\n",
       "      <th>SupportCalls</th>\n",
       "      <th>PaymentDelay</th>\n",
       "      <th>SubscriptionType</th>\n",
       "      <th>ContractLength</th>\n",
       "      <th>TotalSpend</th>\n",
       "      <th>LastInteraction</th>\n",
       "      <th>Churn</th>\n",
       "    </tr>\n",
       "  </thead>\n",
       "  <tbody>\n",
       "    <tr>\n",
       "      <th>0</th>\n",
       "      <td>22</td>\n",
       "      <td>Female</td>\n",
       "      <td>25</td>\n",
       "      <td>14</td>\n",
       "      <td>4</td>\n",
       "      <td>27</td>\n",
       "      <td>Basic</td>\n",
       "      <td>Monthly</td>\n",
       "      <td>598</td>\n",
       "      <td>9</td>\n",
       "      <td>1</td>\n",
       "    </tr>\n",
       "  </tbody>\n",
       "</table>\n",
       "</div>"
      ],
      "text/plain": [
       "   Age  Gender  Tenure  UsageFrequency  SupportCalls  PaymentDelay   \n",
       "0   22  Female      25              14             4            27  \\\n",
       "\n",
       "  SubscriptionType ContractLength  TotalSpend  LastInteraction  Churn  \n",
       "0            Basic        Monthly         598                9      1  "
      ]
     },
     "execution_count": 8,
     "metadata": {},
     "output_type": "execute_result"
    }
   ],
   "source": [
    "df1"
   ]
  },
  {
   "cell_type": "code",
   "execution_count": 3,
   "metadata": {},
   "outputs": [
    {
     "name": "stdout",
     "output_type": "stream",
     "text": [
      "[2023-08-14 14:51:11,380: INFO: configuration: Reading Params file params.yaml]\n",
      "[2023-08-14 14:51:11,382: INFO: common: yaml file: params.yaml loaded successfully]\n"
     ]
    }
   ],
   "source": [
    "from Classification.config import configuration\n",
    "n=configuration.ConfigurationManager().get_data_ingestion_config().data_file_path"
   ]
  },
  {
   "cell_type": "code",
   "execution_count": 4,
   "metadata": {},
   "outputs": [
    {
     "data": {
      "text/plain": [
       "'Files\\\\Input_files\\\\customer_churn.csv'"
      ]
     },
     "execution_count": 4,
     "metadata": {},
     "output_type": "execute_result"
    }
   ],
   "source": [
    "n"
   ]
  },
  {
   "cell_type": "code",
   "execution_count": null,
   "metadata": {},
   "outputs": [],
   "source": [
    "from sklearn.model_selection import train_test_split\n",
    "X=df.drop(columns=['Churn'], axis=1)\n",
    "y=df['Churn']\n",
    "X_train, X_test, y_train, y_test =  train_test_split(X,y,test_size=0.3, random_state=42,shuffle=True)"
   ]
  },
  {
   "cell_type": "code",
   "execution_count": null,
   "metadata": {},
   "outputs": [],
   "source": [
    "df1 = DataIngestionPipeline.main()\n",
    "num_feat= df.select"
   ]
  },
  {
   "cell_type": "code",
   "execution_count": null,
   "metadata": {},
   "outputs": [],
   "source": [
    "x=X_test.iloc[0].to_frame()\n",
    "Model.feature_names_in_"
   ]
  },
  {
   "cell_type": "code",
   "execution_count": null,
   "metadata": {},
   "outputs": [],
   "source": [
    "import joblib\n",
    "import os\n",
    "from Classification.constants import Model_path\n",
    "Model=joblib.load(os.path.join(Model_path,\"Model.pkl\"))\n",
    "Model.predict(x.T)\n",
    "#df.iloc[0]"
   ]
  },
  {
   "cell_type": "code",
   "execution_count": null,
   "metadata": {},
   "outputs": [],
   "source": [
    "import joblib, os\n",
    "from Classification.components import data_prediction\n",
    "from Classification.pipeline import DataIngestionPipeline, ModelPredictPipeline\n",
    "from Classification.constants import Model_path\n",
    "model = joblib.load(os.path.join(Model_path,\"Model.pkl\"))\n"
   ]
  },
  {
   "cell_type": "code",
   "execution_count": null,
   "metadata": {},
   "outputs": [],
   "source": [
    "model.feature_names_in_"
   ]
  },
  {
   "cell_type": "code",
   "execution_count": null,
   "metadata": {},
   "outputs": [],
   "source": [
    "\n",
    "from sklearn.linear_model import LogisticRegression\n",
    "a = 'LogisticRegression'\n",
    "modle = globals().get(a)\n",
    "modle.fit()"
   ]
  }
 ],
 "metadata": {
  "kernelspec": {
   "display_name": "Python 3",
   "language": "python",
   "name": "python3"
  },
  "language_info": {
   "codemirror_mode": {
    "name": "ipython",
    "version": 3
   },
   "file_extension": ".py",
   "mimetype": "text/x-python",
   "name": "python",
   "nbconvert_exporter": "python",
   "pygments_lexer": "ipython3",
   "version": "3.11.3"
  },
  "orig_nbformat": 4
 },
 "nbformat": 4,
 "nbformat_minor": 2
}
